{
 "cells": [
  {
   "cell_type": "code",
   "execution_count": 1,
   "metadata": {},
   "outputs": [],
   "source": [
    "class Node:\n",
    "    def __init__(self,data=None):\n",
    "        self.data=data\n",
    "        self.next=None\n"
   ]
  },
  {
   "cell_type": "code",
   "execution_count": 4,
   "metadata": {},
   "outputs": [],
   "source": [
    "class LinkedList_implementation:\n",
    "    def __init__(self):\n",
    "        self.head=None\n",
    "        \n",
    "    def insert(self,data):\n",
    "        node=Node()\n",
    "        node.data=data\n",
    "        node.next=None\n",
    "        if self.head==None:\n",
    "            self.head=node\n",
    "        else:\n",
    "            new_node=self.head\n",
    "            while new_node.next is not None:\n",
    "                new_node=new_node.next\n",
    "            new_node.next=node\n",
    "            \n",
    "    def insertAtbeg(self,data):\n",
    "        node=Node()\n",
    "        node.data=data\n",
    "        node.next=self.head\n",
    "        self.head=node\n",
    "                \n",
    "\n",
    "    def show(self):\n",
    "        node=self.head\n",
    "        print(\"The current linked list is as follows\")\n",
    "        while node.next is not None:\n",
    "            print(node.data,end=\" \")\n",
    "            node=node.next\n",
    "        print(node.data)"
   ]
  },
  {
   "cell_type": "code",
   "execution_count": 5,
   "metadata": {},
   "outputs": [
    {
     "name": "stdout",
     "output_type": "stream",
     "text": [
      "Enter list elements\n",
      "\n",
      "The current linked list is as follows\n",
      "21 43 54 12\n",
      "The current linked list is as follows\n",
      "37 21 43 54 12\n"
     ]
    }
   ],
   "source": [
    "def main():\n",
    "    ll=LinkedList_implementation()\n",
    "    n=int(input(\"Enter number of elements in linked list: \"))\n",
    "    print(\"Enter list elements\\n\")\n",
    "    for i in range(n):\n",
    "        ll.insert(int(input()))\n",
    "        \n",
    "    ll.show()\n",
    "    \n",
    "    ll.insertAtbeg(int(input(\"Enter element to be inserted at beginning of list: \")))\n",
    "    \n",
    "    ll.show()\n",
    "\n",
    "if __name__==\"__main__\":\n",
    "    main()"
   ]
  }
 ],
 "metadata": {
  "kernelspec": {
   "display_name": "Python 3.7.9 64-bit",
   "language": "python",
   "name": "python3"
  },
  "language_info": {
   "codemirror_mode": {
    "name": "ipython",
    "version": 3
   },
   "file_extension": ".py",
   "mimetype": "text/x-python",
   "name": "python",
   "nbconvert_exporter": "python",
   "pygments_lexer": "ipython3",
   "version": "3.7.9"
  },
  "orig_nbformat": 4,
  "vscode": {
   "interpreter": {
    "hash": "756f32f249508ce1f6666dd850f17bc4bb7fa559c618193c21c797b898f596b5"
   }
  }
 },
 "nbformat": 4,
 "nbformat_minor": 2
}
