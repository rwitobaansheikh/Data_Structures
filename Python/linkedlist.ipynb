{
 "cells": [
  {
   "cell_type": "code",
   "execution_count": 1,
   "metadata": {},
   "outputs": [],
   "source": [
    "class Node:\n",
    "    def __init__(self,data=None):\n",
    "        self.data=data\n",
    "        self.next=None\n"
   ]
  },
  {
   "cell_type": "code",
   "execution_count": 2,
   "metadata": {},
   "outputs": [],
   "source": [
    "class LinkedList_implementation:\n",
    "    def __init__(self):\n",
    "        self.head=None\n",
    "        \n",
    "    def insert(self,data):\n",
    "        node=Node()\n",
    "        node.data=data\n",
    "        node.next=None\n",
    "        if self.head==None:\n",
    "            self.head=node\n",
    "        else:\n",
    "            new_node=self.head\n",
    "            while new_node.next is not None:\n",
    "                new_node=new_node.next\n",
    "            new_node.next=node\n",
    "            \n",
    "    def insertAtbeg(self,data):\n",
    "        node=Node()\n",
    "        node.data=data\n",
    "        node.next=self.head\n",
    "        self.head=node\n",
    "                \n",
    "    def insertAt(self,pos,data):\n",
    "        if(pos==0):\n",
    "            self.insertAtbeg(data)\n",
    "        else:\n",
    "            node=Node()\n",
    "            node.data=data\n",
    "            new_node=self.head\n",
    "            c=pos-1\n",
    "            while c>0:\n",
    "                new_node=new_node.next\n",
    "                c-=1\n",
    "            node.next=new_node.next\n",
    "            new_node.next=node\n",
    "            \n",
    "    def deleteAtStart(self):\n",
    "        self.head=self.head.next\n",
    "    \n",
    "    def delete(self):\n",
    "        if self.head.next is None:\n",
    "            self.deleteAtStart()\n",
    "        else:\n",
    "            node=self.head\n",
    "            c=0\n",
    "            while node.next is not None:\n",
    "                node=node.next\n",
    "                c+=1\n",
    "            self.deleteAtpos(c)\n",
    "            \n",
    "    def deleteAtpos(self, pos):\n",
    "        if pos==0:\n",
    "            self.deleteAtStart()\n",
    "        else:\n",
    "            node=self.head\n",
    "            n=Node()\n",
    "            while pos-1 is not 0:\n",
    "                node=node.next\n",
    "                pos-=1\n",
    "            n=node.next\n",
    "            node.next=n.next\n",
    "            n=None\n",
    "                         \n",
    "    def show(self):\n",
    "        node=self.head\n",
    "        print(\"The current linked list is as follows\")\n",
    "        while node.next is not None:\n",
    "            print(node.data,end=\" \")\n",
    "            node=node.next\n",
    "        print(node.data)"
   ]
  },
  {
   "cell_type": "code",
   "execution_count": 4,
   "metadata": {},
   "outputs": [
    {
     "name": "stdout",
     "output_type": "stream",
     "text": [
      "\t\tMenu\n",
      "1. Insert elements in list\n",
      "2. Insert element at start of list\n",
      "3. Insert element at a position in list\n",
      "4. Delete element at start of list\n",
      "5. Delete element at end of list\n",
      "6. Delete element at a position in list\n",
      "7. Display list\n",
      "0. Enter 0 to Exit\n",
      "Enter list elements\n",
      "\n"
     ]
    },
    {
     "ename": "ValueError",
     "evalue": "invalid literal for int() with base 10: ''",
     "output_type": "error",
     "traceback": [
      "\u001b[1;31m---------------------------------------------------------------------------\u001b[0m",
      "\u001b[1;31mValueError\u001b[0m                                Traceback (most recent call last)",
      "\u001b[1;32m<ipython-input-4-cb0b33658669>\u001b[0m in \u001b[0;36m<module>\u001b[1;34m\u001b[0m\n\u001b[0;32m     38\u001b[0m \u001b[1;33m\u001b[0m\u001b[0m\n\u001b[0;32m     39\u001b[0m \u001b[1;32mif\u001b[0m \u001b[0m__name__\u001b[0m\u001b[1;33m==\u001b[0m\u001b[1;34m\"__main__\"\u001b[0m\u001b[1;33m:\u001b[0m\u001b[1;33m\u001b[0m\u001b[1;33m\u001b[0m\u001b[0m\n\u001b[1;32m---> 40\u001b[1;33m     \u001b[0mmain\u001b[0m\u001b[1;33m(\u001b[0m\u001b[1;33m)\u001b[0m\u001b[1;33m\u001b[0m\u001b[1;33m\u001b[0m\u001b[0m\n\u001b[0m",
      "\u001b[1;32m<ipython-input-4-cb0b33658669>\u001b[0m in \u001b[0;36mmain\u001b[1;34m()\u001b[0m\n\u001b[0;32m     17\u001b[0m             \u001b[0mprint\u001b[0m\u001b[1;33m(\u001b[0m\u001b[1;34m\"Enter list elements\\n\"\u001b[0m\u001b[1;33m)\u001b[0m\u001b[1;33m\u001b[0m\u001b[1;33m\u001b[0m\u001b[0m\n\u001b[0;32m     18\u001b[0m             \u001b[1;32mfor\u001b[0m \u001b[0mi\u001b[0m \u001b[1;32min\u001b[0m \u001b[0mrange\u001b[0m\u001b[1;33m(\u001b[0m\u001b[0mn\u001b[0m\u001b[1;33m)\u001b[0m\u001b[1;33m:\u001b[0m\u001b[1;33m\u001b[0m\u001b[1;33m\u001b[0m\u001b[0m\n\u001b[1;32m---> 19\u001b[1;33m                 \u001b[0mll\u001b[0m\u001b[1;33m.\u001b[0m\u001b[0minsert\u001b[0m\u001b[1;33m(\u001b[0m\u001b[0mint\u001b[0m\u001b[1;33m(\u001b[0m\u001b[0minput\u001b[0m\u001b[1;33m(\u001b[0m\u001b[1;33m)\u001b[0m\u001b[1;33m)\u001b[0m\u001b[1;33m)\u001b[0m\u001b[1;33m\u001b[0m\u001b[1;33m\u001b[0m\u001b[0m\n\u001b[0m\u001b[0;32m     20\u001b[0m         \u001b[1;32melif\u001b[0m \u001b[0mchoice\u001b[0m \u001b[1;32mis\u001b[0m \u001b[1;36m2\u001b[0m\u001b[1;33m:\u001b[0m\u001b[1;33m\u001b[0m\u001b[1;33m\u001b[0m\u001b[0m\n\u001b[0;32m     21\u001b[0m             \u001b[0mll\u001b[0m\u001b[1;33m.\u001b[0m\u001b[0minsertAtbeg\u001b[0m\u001b[1;33m(\u001b[0m\u001b[0mint\u001b[0m\u001b[1;33m(\u001b[0m\u001b[0minput\u001b[0m\u001b[1;33m(\u001b[0m\u001b[1;34m\"Enter element to be inserted at beginning of list: \"\u001b[0m\u001b[1;33m)\u001b[0m\u001b[1;33m)\u001b[0m\u001b[1;33m)\u001b[0m\u001b[1;33m\u001b[0m\u001b[1;33m\u001b[0m\u001b[0m\n",
      "\u001b[1;31mValueError\u001b[0m: invalid literal for int() with base 10: ''"
     ]
    }
   ],
   "source": [
    "def main():\n",
    "    ll=LinkedList_implementation()\n",
    "    choice=-1\n",
    "    while True:\n",
    "        print(\"\\t\\tMenu\")\n",
    "        print(\"1. Insert elements in list\")\n",
    "        print(\"2. Insert element at start of list\")\n",
    "        print(\"3. Insert element at a position in list\")\n",
    "        print(\"4. Delete element at start of list\")\n",
    "        print(\"5. Delete element at end of list\")\n",
    "        print(\"6. Delete element at a position in list\")\n",
    "        print(\"7. Display list\")\n",
    "        print(\"0. Enter 0 to Exit\")\n",
    "        choice=int(input(\"\\nEnter choice\"))\n",
    "        if choice is 1:\n",
    "            n=int(input(\"Enter number of elements in linked list: \"))\n",
    "            print(\"Enter list elements\\n\")\n",
    "            for i in range(n):\n",
    "                ll.insert(int(input()))\n",
    "        elif choice is 2:\n",
    "            ll.insertAtbeg(int(input(\"Enter element to be inserted at beginning of list: \")))\n",
    "        elif choice is 3:\n",
    "            ll.insertAt(int(input(\"Enter position where element is to be inserted.\")),int(input(\"Enter element to be inserted.\")))\n",
    "        elif choice is 4:\n",
    "            ll.deleteAtStart()\n",
    "        elif choice is 5:\n",
    "            ll.delete()\n",
    "        elif choice is 6:\n",
    "            ll.deleteAtpos(int(input(\"Enter position in list where element is to be deleted: \")))\n",
    "        elif choice is 7:\n",
    "            ll.show()\n",
    "        elif choice is 0:\n",
    "            break\n",
    "        else:\n",
    "            print(\"Wrong choice entered. \\nPlease try again!\")\n",
    "            \n",
    "        \n",
    "\n",
    "if __name__==\"__main__\":\n",
    "    main()"
   ]
  }
 ],
 "metadata": {
  "kernelspec": {
   "display_name": "Python 3.7.9 64-bit",
   "language": "python",
   "name": "python3"
  },
  "language_info": {
   "codemirror_mode": {
    "name": "ipython",
    "version": 3
   },
   "file_extension": ".py",
   "mimetype": "text/x-python",
   "name": "python",
   "nbconvert_exporter": "python",
   "pygments_lexer": "ipython3",
   "version": "3.7.9"
  },
  "orig_nbformat": 4,
  "vscode": {
   "interpreter": {
    "hash": "756f32f249508ce1f6666dd850f17bc4bb7fa559c618193c21c797b898f596b5"
   }
  }
 },
 "nbformat": 4,
 "nbformat_minor": 2
}
